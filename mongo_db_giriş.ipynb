{
 "cells": [
  {
   "cell_type": "code",
   "execution_count": 2,
   "metadata": {},
   "outputs": [],
   "source": [
    "from pymongo import MongoClient"
   ]
  },
  {
   "cell_type": "code",
   "execution_count": null,
   "metadata": {},
   "outputs": [],
   "source": [
    "connection_string =\"mongodb+srv://mahirsaripinar1919:<db_password>@deneme1.tvk9p.mongodb.net/\"\n"
   ]
  },
  {
   "cell_type": "code",
   "execution_count": 7,
   "metadata": {},
   "outputs": [],
   "source": [
    "client = MongoClient(connection_string)"
   ]
  },
  {
   "cell_type": "code",
   "execution_count": 8,
   "metadata": {},
   "outputs": [],
   "source": [
    "collection = client['yunusemre']['songs']"
   ]
  },
  {
   "cell_type": "code",
   "execution_count": 17,
   "metadata": {},
   "outputs": [],
   "source": [
    "SEED_DATA = [\n",
    "    {\n",
    "        'decade': '1970s',\n",
    "        'artist': 'Debby Boone',\n",
    "        'song': 'You Light Up My Life',\n",
    "        'weeksAtOne': 10\n",
    "    },\n",
    "    {\n",
    "        'decade': '1980s',\n",
    "        'artist': 'Olivia Newton-John',\n",
    "        'song': 'Physical',\n",
    "        'weeksAtOne': 10\n",
    "    },\n",
    "    {\n",
    "        'decade': '1990s',\n",
    "        'artist': 'Mariah Carey',\n",
    "        'song': 'One Sweet Day',\n",
    "        'weeksAtOne': 16\n",
    "    }\n",
    "]"
   ]
  },
  {
   "cell_type": "code",
   "execution_count": 21,
   "metadata": {},
   "outputs": [
    {
     "ename": "SyntaxError",
     "evalue": "invalid syntax (3843373640.py, line 1)",
     "output_type": "error",
     "traceback": [
      "\u001b[0;36m  Cell \u001b[0;32mIn[21], line 1\u001b[0;36m\u001b[0m\n\u001b[0;31m    import randomnew_data = []\u001b[0m\n\u001b[0m                          ^\u001b[0m\n\u001b[0;31mSyntaxError\u001b[0m\u001b[0;31m:\u001b[0m invalid syntax\n"
     ]
    }
   ],
   "source": [
    "import randomnew_data = []\n",
    "\n",
    "for i in range(100):\n",
    "    veriler = random.choice(SEED_DATA)\n",
    "    yeni_veri = {\n",
    "        'decade': veriler['decade'],\n",
    "        'artist': veriler['artist'],\n",
    "        'song': veriler['song'],\n",
    "        'haftalıkTıklanma': veriler['weekAtone']\n",
    "    }\n",
    "     new_data.append(yeni_veri)\n",
    "    for veri in new_data:\n",
    "       print(veri)"
   ]
  },
  {
   "cell_type": "code",
   "execution_count": 22,
   "metadata": {},
   "outputs": [
    {
     "ename": "NameError",
     "evalue": "name 'new_data' is not defined",
     "output_type": "error",
     "traceback": [
      "\u001b[0;31m---------------------------------------------------------------------------\u001b[0m",
      "\u001b[0;31mNameError\u001b[0m                                 Traceback (most recent call last)",
      "Cell \u001b[0;32mIn[22], line 1\u001b[0m\n\u001b[0;32m----> 1\u001b[0m collection\u001b[38;5;241m.\u001b[39minsert_many(\u001b[43mnew_data\u001b[49m)\n",
      "\u001b[0;31mNameError\u001b[0m: name 'new_data' is not defined"
     ]
    }
   ],
   "source": [
    "collection.insert_many(new_data)"
   ]
  }
 ],
 "metadata": {
  "kernelspec": {
   "display_name": "sanal_ortam",
   "language": "python",
   "name": "python3"
  },
  "language_info": {
   "codemirror_mode": {
    "name": "ipython",
    "version": 3
   },
   "file_extension": ".py",
   "mimetype": "text/x-python",
   "name": "python",
   "nbconvert_exporter": "python",
   "pygments_lexer": "ipython3",
   "version": "3.12.1"
  }
 },
 "nbformat": 4,
 "nbformat_minor": 2
}
